{
 "cells": [
  {
   "cell_type": "markdown",
   "metadata": {},
   "source": [
    "## Proyecto 1"
   ]
  },
  {
   "cell_type": "markdown",
   "metadata": {},
   "source": [
    "Importar librerias"
   ]
  },
  {
   "cell_type": "code",
   "execution_count": null,
   "metadata": {},
   "outputs": [
    {
     "data": {
      "text/plain": [
       "0"
      ]
     },
     "execution_count": 11,
     "metadata": {},
     "output_type": "execute_result"
    }
   ],
   "source": [
    "import pandas as pd\n",
    "import numpy as nps\n",
    "import numpy as np\n",
    "import os\n",
    "os.system('cls')"
   ]
  },
  {
   "cell_type": "markdown",
   "metadata": {},
   "source": [
    "Definicion de funciones:"
   ]
  },
  {
   "cell_type": "code",
   "execution_count": 12,
   "metadata": {},
   "outputs": [],
   "source": [
    "def MultiplicarFila(M, num_fila, num_fila_multiplo):\n",
    "    M_nueva = M.copy()\n",
    "    # Escriba su código aquí: multiplique cada elemento de una fila por un número\n",
    "    M_nueva[num_fila] =M_nueva[num_fila]*num_fila_multiplo\n",
    "    return M_nueva\n",
    "\n",
    "def SumarFilas(M, num_fila_1, num_fila_2, num_fila_1_multiple):\n",
    "    M_nueva = M.copy()\n",
    "    # Escriba su código aquí: multiplique una fila por un número y sume la fila con otra\n",
    "    M_nueva[num_fila_2] =  M_nueva[num_fila_2]+num_fila_1_multiple*M_nueva[num_fila_1]\n",
    "    return M_nueva\n",
    "\n",
    "def IntercambiarFilas(M, fila_num_1, fila_num_2):\n",
    "    M_nueva =M.copy()\n",
    "    # Escriba su código aquí: Intercambie fila_num_1 y fila_num_2 de la matriz M_nueva\n",
    "    M_nueva[[fila_num_1, fila_num_2]] = M_nueva[[fila_num_2, fila_num_1]]\n",
    "    return M_nueva"
   ]
  },
  {
   "cell_type": "code",
   "execution_count": 13,
   "metadata": {},
   "outputs": [
    {
     "name": "stdout",
     "output_type": "stream",
     "text": [
      "Matriz original:\n",
      "[[ 1. -2.  3. -4.]\n",
      " [-5.  6. -7.  8.]\n",
      " [-4.  3. -2.  1.]\n",
      " [ 8. -7.  6. -5.]]\n"
     ]
    }
   ],
   "source": [
    "A_test = np.array([\n",
    "        [1, -2, 3, -4],\n",
    "        [-5, 6, -7, 8],\n",
    "        [-4, 3, -2, 1],\n",
    "        [8, -7, 6, -5]\n",
    "    ], dtype=np.dtype(float))\n",
    "\n",
    "print(\"Matriz original:\")\n",
    "print(A_test)"
   ]
  },
  {
   "cell_type": "code",
   "execution_count": 14,
   "metadata": {},
   "outputs": [
    {
     "name": "stdout",
     "output_type": "stream",
     "text": [
      "\n",
      "Matriz original después de multiplicar su tercera fila por -2:\n",
      "[[ 1. -2.  3. -4.]\n",
      " [-5.  6. -7.  8.]\n",
      " [ 8. -6.  4. -2.]\n",
      " [ 8. -7.  6. -5.]]\n",
      "\n",
      "Matriz original después de intercambiar la tercera fila con la suma de sí misma y la primera fila multiplicada por 4:\n",
      "[[  1.  -2.   3.  -4.]\n",
      " [ -5.   6.  -7.   8.]\n",
      " [  0.  -5.  10. -15.]\n",
      " [  8.  -7.   6.  -5.]]\n",
      "\n",
      "Matriz original después de intercambiar su primera y tercera filas:\n",
      "[[-4.  3. -2.  1.]\n",
      " [-5.  6. -7.  8.]\n",
      " [ 1. -2.  3. -4.]\n",
      " [ 8. -7.  6. -5.]]\n",
      "\n",
      " [[ 1. -2.  3. -4.]\n",
      " [-5.  6. -7.  8.]\n",
      " [-4.  3. -2.  1.]\n",
      " [ 8. -7.  6. -5.]]\n"
     ]
    }
   ],
   "source": [
    "print(\"\\nMatriz original después de multiplicar su tercera fila por -2:\")\n",
    "print(MultiplicarFila(A_test, 2, -2))\n",
    "\n",
    "print(\"\\nMatriz original después de intercambiar la tercera fila con la suma de sí misma y la primera fila multiplicada por 4:\")\n",
    "print(SumarFilas(A_test, 0, 2, 4))\n",
    "\n",
    "print(\"\\nMatriz original después de intercambiar su primera y tercera filas:\")\n",
    "print(IntercambiarFilas(A_test, 0, 2))\n",
    "print('\\n',A_test)"
   ]
  },
  {
   "cell_type": "code",
   "execution_count": null,
   "metadata": {},
   "outputs": [],
   "source": []
  }
 ],
 "metadata": {
  "kernelspec": {
   "display_name": "Python 3",
   "language": "python",
   "name": "python3"
  },
  "language_info": {
   "codemirror_mode": {
    "name": "ipython",
    "version": 3
   },
   "file_extension": ".py",
   "mimetype": "text/x-python",
   "name": "python",
   "nbconvert_exporter": "python",
   "pygments_lexer": "ipython3",
   "version": "3.12.3"
  }
 },
 "nbformat": 4,
 "nbformat_minor": 2
}
